{
 "cells": [
  {
   "cell_type": "markdown",
   "id": "5d64343b",
   "metadata": {},
   "source": [
    "# Explainer notebook"
   ]
  }
 ],
 "metadata": {
  "language_info": {
   "name": "python"
  }
 },
 "nbformat": 4,
 "nbformat_minor": 5
}
